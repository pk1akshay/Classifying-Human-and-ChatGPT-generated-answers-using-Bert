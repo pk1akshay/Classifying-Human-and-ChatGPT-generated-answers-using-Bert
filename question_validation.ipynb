{
 "cells": [
  {
   "cell_type": "code",
   "execution_count": null,
   "metadata": {},
   "outputs": [],
   "source": [
    "import pandas as pd\n",
    "from transformers import AutoTokenizer, AutoModelForSequenceClassification\n",
    "\n",
    "# Initialize the tokenizer and model\n",
    "tokenizer = AutoTokenizer.from_pretrained(\"shahrukhx01/question-vs-statement-classifier\")\n",
    "model = AutoModelForSequenceClassification.from_pretrained(\"shahrukhx01/question-vs-statement-classifier\")\n",
    "\n",
    "# Define a function to classify text as a question or not\n",
    "def is_question(text):\n",
    "    inputs = tokenizer(text, return_tensors=\"pt\")\n",
    "    outputs = model(**inputs)\n",
    "    probabilities = outputs.logits.softmax(dim=1)\n",
    "    is_question_prob = probabilities[0, 1].item()\n",
    "    return is_question_prob > 0.5\n",
    "\n",
    "# Load the large CSV file\n",
    "csv_file = \"FinalRedittData.csv\"  # Replace with the path to your 1GB CSV file\n",
    "df = pd.read_csv(csv_file)\n",
    "\n",
    "# Process and append the \"is_question\" result to the top 1000 rows\n",
    "df[\"is_question\"] = df[\"title\"].apply(is_question)\n",
    "\n",
    "# Display rows where 'is_question' is True\n",
    "questions_df = df[df['is_question'] == True]\n",
    "\n",
    "# Save the updated DataFrame to a new CSV file\n",
    "output_csv_file1 = \"output_data_1.csv\"\n",
    "\n",
    "questions_df.to_csv(output_csv_file1, index=False)"
   ]
  }
 ],
 "metadata": {
  "language_info": {
   "name": "python"
  }
 },
 "nbformat": 4,
 "nbformat_minor": 2
}
